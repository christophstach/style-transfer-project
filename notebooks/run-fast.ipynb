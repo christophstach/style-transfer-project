{
 "cells": [
  {
   "cell_type": "code",
   "execution_count": 1,
   "metadata": {},
   "outputs": [],
   "source": [
    "import os\n",
    "import ipywidgets as widgets\n",
    "import matplotlib.pyplot as plt\n",
    "import torch\n",
    "\n",
    "from os.path import splitext, basename\n",
    "from IPython.display import display\n",
    "\n",
    "from time import time\n",
    "from PIL import ImageFile\n",
    "\n",
    "from csfnst.fastneuralstyle.networks import TransformerNet, BottleneckType\n",
    "from csfnst.utils import load_image, plot_image_tensor, save_image_tensor\n",
    "\n",
    "ImageFile.LOAD_TRUNCATED_IMAGES = True"
   ]
  },
  {
   "cell_type": "code",
   "execution_count": 2,
   "metadata": {},
   "outputs": [
    {
     "data": {
      "application/vnd.jupyter.widget-view+json": {
       "model_id": "888d8400253b4152b82ca51e6a56ee53",
       "version_major": 2,
       "version_minor": 0
      },
      "text/plain": [
       "HBox(children=(Dropdown(description='Model:', options=('experiment1__net01__s5__m32__residual_block.pth', 'exp…"
      ]
     },
     "metadata": {},
     "output_type": "display_data"
    },
    {
     "data": {
      "application/vnd.jupyter.widget-view+json": {
       "model_id": "c1fb643315944442bbf9b813393b407b",
       "version_major": 2,
       "version_minor": 0
      },
      "text/plain": [
       "Output()"
      ]
     },
     "metadata": {},
     "output_type": "display_data"
    }
   ],
   "source": [
    "save_image = True\n",
    "force_cpu = False\n",
    "device_type = 'cuda' if torch.cuda.is_available() and not force_cpu else 'cpu'\n",
    "device = torch.device(device_type)\n",
    "output_path = '../images/experiments/'\n",
    "content_image_path = '../images/content/garden.jpg'\n",
    "content_image = load_image(content_image_path).to(device)\n",
    "\n",
    "checkpoints_dir = '../checkpoints/'\n",
    "models = [model for model in os.listdir(checkpoints_dir) if model != '.gitkeep']\n",
    "models.sort()\n",
    "\n",
    "out = widgets.Output() \n",
    "dropdown_models = widgets.Dropdown(options=models, description='Model:')\n",
    "button_stylize = widgets.Button(description='Stylize', button_style='Info')\n",
    "hbox = widgets.HBox([dropdown_models, button_stylize])\n",
    "\n",
    "def perform_style_transfer(button):\n",
    "    out.clear_output()\n",
    "    with out:\n",
    "        print('Calculating...')\n",
    "        \n",
    "    start = time()\n",
    "    \n",
    "    if device_type == 'cuda':\n",
    "        checkpoint = torch.load(checkpoints_dir + dropdown_models.value)\n",
    "    else:\n",
    "        checkpoint = torch.load(checkpoints_dir + dropdown_models.value, map_location={'cuda:0': 'cpu'})\n",
    "\n",
    "    model = TransformerNet(\n",
    "        channel_multiplier=checkpoint['channel_multiplier'],\n",
    "        expansion_factor=checkpoint['expansion_factor'],\n",
    "        bottleneck_type=BottleneckType[checkpoint['bottleneck_type'].replace('BottleneckType.', '')],\n",
    "        bottleneck_size=checkpoint['bottleneck_size'],\n",
    "        intermediate_activation_fn=checkpoint['intermediate_activation_fn'],\n",
    "        final_activation_fn=checkpoint['final_activation_fn']\n",
    "    ).to(device)\n",
    "    \n",
    "    model.load_state_dict(checkpoint['model_state_dict'])\n",
    "    model.eval()\n",
    "\n",
    "    output_image = model(content_image.unsqueeze(0)).squeeze()\n",
    "    output_image = output_image.squeeze()\n",
    "    end = time()\n",
    "        \n",
    "    out.clear_output()\n",
    "    with out: \n",
    "        print(f'Took {(end - start):.5} sec')\n",
    "        fig, ax = plt.subplots(1, 1, dpi=200)\n",
    "        #fig, axes = plt.subplots(1, 2, dpi=200)\n",
    "        fig.set_size_inches(24, 24)\n",
    "\n",
    "        #plot_image_tensor(input_image, ax=axes[0])\n",
    "        #plot_image_tensor(output_image, ax=axes[1])\n",
    "        plot_image_tensor(output_image, ax=ax)\n",
    "\n",
    "        plt.show()\n",
    "        \n",
    "        if save_image:\n",
    "            image_name, _ = splitext(basename(content_image_path))\n",
    "            model_name, _ = splitext(dropdown_models.value)\n",
    "            save_image_tensor(output_image, f'{output_path}{image_name}-{model_name}.jpg')\n",
    "\n",
    "        \n",
    "button_stylize.on_click(perform_style_transfer)\n",
    "\n",
    "with out:\n",
    "    print('Select model and click Stylize!')\n",
    "\n",
    "display(hbox, out)"
   ]
  }
 ],
 "metadata": {
  "kernelspec": {
   "display_name": "Python 3",
   "language": "python",
   "name": "python3"
  },
  "language_info": {
   "codemirror_mode": {
    "name": "ipython",
    "version": 3
   },
   "file_extension": ".py",
   "mimetype": "text/x-python",
   "name": "python",
   "nbconvert_exporter": "python",
   "pygments_lexer": "ipython3",
   "version": "3.6.7"
  }
 },
 "nbformat": 4,
 "nbformat_minor": 2
}
