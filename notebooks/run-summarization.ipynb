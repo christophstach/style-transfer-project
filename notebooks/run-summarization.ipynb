{
 "cells": [
  {
   "cell_type": "code",
   "execution_count": 1,
   "metadata": {},
   "outputs": [],
   "source": [
    "import os\n",
    "import torch\n",
    "from IPython.display import display\n",
    "import ipywidgets as widgets\n",
    "from torchsummary import summary\n",
    "\n",
    "from csfnst.fastneuralstyle.networks import TransformerNet, BottleneckType"
   ]
  },
  {
   "cell_type": "code",
   "execution_count": 2,
   "metadata": {
    "scrolled": false
   },
   "outputs": [
    {
     "data": {
      "application/vnd.jupyter.widget-view+json": {
       "model_id": "d5f2f643ef214ef48c0219820f0fa149",
       "version_major": 2,
       "version_minor": 0
      },
      "text/plain": [
       "HBox(children=(Dropdown(description='Model:', options=('experiment1__net01__s5__m32__residual_block.pth', 'exp…"
      ]
     },
     "metadata": {},
     "output_type": "display_data"
    },
    {
     "data": {
      "application/vnd.jupyter.widget-view+json": {
       "model_id": "32b902e95ed04245a10d943773a39e8e",
       "version_major": 2,
       "version_minor": 0
      },
      "text/plain": [
       "Output()"
      ]
     },
     "metadata": {},
     "output_type": "display_data"
    }
   ],
   "source": [
    "input_size = (3, 256, 256)\n",
    "force_cpu = True\n",
    "device_type = 'cuda' if torch.cuda.is_available() and not force_cpu else 'cpu'\n",
    "device = torch.device(device_type)\n",
    "\n",
    "\n",
    "checkpoints_dir = '../checkpoints/'\n",
    "models = [model for model in os.listdir(checkpoints_dir) if model != '.gitkeep']\n",
    "models.sort()\n",
    "\n",
    "out = widgets.Output() \n",
    "dropdown_models = widgets.Dropdown(options=models, description='Model:')\n",
    "button_summarize = widgets.Button(description='Summarize', button_style='Info')\n",
    "hbox = widgets.HBox([dropdown_models, button_summarize])\n",
    "\n",
    "\n",
    "def perform_summarization(button):\n",
    "    out.clear_output()\n",
    "    with out:\n",
    "        print('Calculating...')\n",
    "        \n",
    "    if device_type == 'cuda':\n",
    "        checkpoint = torch.load(checkpoints_dir + dropdown_models.value)\n",
    "    else:\n",
    "        checkpoint = torch.load(checkpoints_dir + dropdown_models.value, map_location={'cuda:0': 'cpu'})\n",
    "\n",
    "    model = TransformerNet(\n",
    "        channel_multiplier=checkpoint['channel_multiplier'],\n",
    "        expansion_factor=checkpoint['expansion_factor'],\n",
    "        bottleneck_type=BottleneckType[checkpoint['bottleneck_type'].replace('BottleneckType.', '')],\n",
    "        bottleneck_size=checkpoint['bottleneck_size'],\n",
    "        intermediate_activation_fn=checkpoint['intermediate_activation_fn'],\n",
    "        final_activation_fn=checkpoint['final_activation_fn']\n",
    "    ).to(device)\n",
    "    \n",
    "    model.load_state_dict(checkpoint['model_state_dict'])\n",
    "    model.eval()\n",
    "    \n",
    "    out.clear_output()\n",
    "    with out:\n",
    "        summary(model, device=device_type, input_size=input_size)\n",
    "\n",
    "button_summarize.on_click(perform_summarization)\n",
    "        \n",
    "display(hbox, out)"
   ]
  }
 ],
 "metadata": {
  "kernelspec": {
   "display_name": "Python 3",
   "language": "python",
   "name": "python3"
  },
  "language_info": {
   "codemirror_mode": {
    "name": "ipython",
    "version": 3
   },
   "file_extension": ".py",
   "mimetype": "text/x-python",
   "name": "python",
   "nbconvert_exporter": "python",
   "pygments_lexer": "ipython3",
   "version": "3.6.8"
  }
 },
 "nbformat": 4,
 "nbformat_minor": 2
}
