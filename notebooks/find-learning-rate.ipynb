{
 "cells": [
  {
   "cell_type": "code",
   "execution_count": 1,
   "metadata": {},
   "outputs": [
    {
     "name": "stderr",
     "output_type": "stream",
     "text": [
      "/home/s0555912/venv/lib/python3.6/site-packages/tqdm/autonotebook/__init__.py:14: TqdmExperimentalWarning: Using `tqdm.autonotebook.tqdm` in notebook mode. Use `tqdm.tqdm` instead to force console mode (e.g. in jupyter console)\n",
      "  \" (e.g. in jupyter console)\", TqdmExperimentalWarning)\n"
     ]
    }
   ],
   "source": [
    "import yaml\n",
    "\n",
    "\n",
    "import torch\n",
    "import torch.utils.data as data\n",
    "import torch.optim as optim\n",
    "\n",
    "import torchvision.datasets as datasets\n",
    "import torchvision.models as models\n",
    "import torchvision.transforms as transforms\n",
    "\n",
    "from pprint import pprint\n",
    "\n",
    "from csfnst.utils import LRFinder, load_image, rename_network_layers, replace_network_layers\n",
    "from csfnst.fastneuralstyle.networks import StylizedNet, BottleneckType, NetworkArchitecture\n",
    "from csfnst.losses import PerceptualLoss"
   ]
  },
  {
   "cell_type": "code",
   "execution_count": 2,
   "metadata": {},
   "outputs": [],
   "source": [
    "def get_runs(config_file):\n",
    "    config = yaml.load(open(config_file, 'r'), Loader=yaml.Loader)\n",
    "\n",
    "    runs = [\n",
    "        {\n",
    "            'name': list(run.keys())[0],\n",
    "            **config['defaults'],\n",
    "            **run[list(run.keys())[0]],\n",
    "            'network': NetworkArchitecture[\n",
    "                run[list(run.keys())[0]]['network']\n",
    "                if 'network' in run[list(run.keys())[0]].keys()\n",
    "                else config['defaults']['network']\n",
    "            ],\n",
    "            'bottleneck_type': BottleneckType[\n",
    "                run[list(run.keys())[0]]['bottleneck_type']\n",
    "                if 'bottleneck_type' in run[list(run.keys())[0]].keys()\n",
    "                else config['defaults']['bottleneck_type']\n",
    "            ]\n",
    "        }\n",
    "        for run in config['runs']\n",
    "    ]\n",
    "\n",
    "    return runs"
   ]
  },
  {
   "cell_type": "code",
   "execution_count": 3,
   "metadata": {},
   "outputs": [],
   "source": [
    "device_type = 'cuda'\n",
    "run_name = 'candy'\n",
    "config_file = '../config/production.yml'\n",
    "configs = get_runs(config_file)\n",
    "config = [config for config in configs if config['name'] == run_name][0]\n",
    "device = torch.device('cuda' if torch.cuda.is_available() and device_type == 'cuda' else 'cpu')\n",
    "\n",
    "# pprint(config)"
   ]
  },
  {
   "cell_type": "code",
   "execution_count": 4,
   "metadata": {},
   "outputs": [],
   "source": [
    "model = StylizedNet(\n",
    "    channel_multiplier=config['channel_multiplier'],\n",
    "    expansion_factor=config['expansion_factor'],\n",
    "    bottleneck_type=config['bottleneck_type'],\n",
    "    bottleneck_size=config['bottleneck_size'],\n",
    "    intermediate_activation_fn=config['intermediate_activation_fn'],\n",
    "    final_activation_fn=config['final_activation_fn']\n",
    ")"
   ]
  },
  {
   "cell_type": "code",
   "execution_count": 5,
   "metadata": {},
   "outputs": [],
   "source": [
    "dataset = datasets.ImageFolder(\n",
    "    config['dataset_path'],\n",
    "    transform=transforms.Compose([\n",
    "        transforms.RandomResizedCrop(config['content_image_size'])\n",
    "        if config['augmentation'] else\n",
    "        transforms.Compose([\n",
    "            transforms.Resize(int(config['content_image_size'])),\n",
    "            transforms.CenterCrop(int(config['content_image_size']))\n",
    "        ]),\n",
    "        transforms.ToTensor()\n",
    "    ])\n",
    ")\n",
    "\n",
    "\n",
    "\n",
    "dataloader = (\n",
    "    (images, images) \n",
    "    for images, _\n",
    "    in data.DataLoader(\n",
    "        dataset,\n",
    "        batch_size=int(config['batch_size']),\n",
    "        shuffle=True,\n",
    "        num_workers=8\n",
    "    )\n",
    ")"
   ]
  },
  {
   "cell_type": "code",
   "execution_count": 6,
   "metadata": {},
   "outputs": [],
   "source": [
    "style_image_file = f'../images/style/{config[\"style_image\"]}'\n",
    "style_image = load_image(style_image_file, size=config['style_image_size']).to(device)\n",
    "\n",
    "loss_network = rename_network_layers(\n",
    "    replace_network_layers(\n",
    "        models.vgg16(pretrained=True).features[:23],\n",
    "        'MaxPool2d',\n",
    "        'AvgPool2d'\n",
    "    )\n",
    ").to(device).eval()\n",
    "\n",
    "criterion = PerceptualLoss(\n",
    "    model=loss_network,\n",
    "    content_layers=['relu3_3'],\n",
    "    style_layers=['relu1_2', 'relu2_2', 'relu3_3', 'relu4_3'],\n",
    "    style_image=style_image,\n",
    "    content_weight=float(config['content_weight']),\n",
    "    style_weight=float(config['style_weight']),\n",
    "    total_variation_weight=float(config['total_variation_weight'])\n",
    ")"
   ]
  },
  {
   "cell_type": "code",
   "execution_count": 9,
   "metadata": {},
   "outputs": [
    {
     "data": {
      "application/vnd.jupyter.widget-view+json": {
       "model_id": "8317ab48c79648e7be890f831f0ef6e0",
       "version_major": 2,
       "version_minor": 0
      },
      "text/plain": [
       "HBox(children=(IntProgress(value=0), HTML(value='')))"
      ]
     },
     "metadata": {},
     "output_type": "display_data"
    },
    {
     "name": "stdout",
     "output_type": "stream",
     "text": [
      "\n",
      "Learning rate search finished. See the graph with {finder_name}.plot()\n"
     ]
    },
    {
     "data": {
      "image/png": "[encoded data removed]",
      "text/plain": [
       "<Figure size 432x288 with 1 Axes>"
      ]
     },
     "metadata": {
      "needs_background": "light"
     },
     "output_type": "display_data"
    }
   ],
   "source": [
    "optimizer = optim.Adam(model.parameters(), lr=0.1, weight_decay=1e-2)\n",
    "lr_finder = LRFinder(model, optimizer, criterion, device=device_type)\n",
    "lr_finder.reset()\n",
    "lr_finder.range_test(dataloader, end_lr=1, num_iter=100, step_mode='linear')\n",
    "lr_finder.plot(log_lr=False)"
   ]
  }
 ],
 "metadata": {
  "kernelspec": {
   "display_name": "Python 3",
   "language": "python",
   "name": "python3"
  },
  "language_info": {
   "codemirror_mode": {
    "name": "ipython",
    "version": 3
   },
   "file_extension": ".py",
   "mimetype": "text/x-python",
   "name": "python",
   "nbconvert_exporter": "python",
   "pygments_lexer": "ipython3",
   "version": "3.6.7"
  }
 },
 "nbformat": 4,
 "nbformat_minor": 2
}
