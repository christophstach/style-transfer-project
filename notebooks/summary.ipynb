{
 "cells": [
  {
   "cell_type": "code",
   "execution_count": 1,
   "metadata": {},
   "outputs": [],
   "source": [
    "import torch\n",
    "import torch.nn as nn\n",
    "import torch.nn.functional as F\n",
    "from torchsummary import summary\n",
    "\n",
    "from csfnst.fastneuralstyle.networks import TransformerNetConvTranspose, TransformerNetConvTransposeLarge, \\\n",
    "    TransformerNetInterpolate, TextureNet, TransformerNetInterpolateLarge, \\\n",
    "    StachMobileNet, StachMobileFullResidualNet, CustomTransformerNetInterpolate, \\\n",
    "    CustomTransformerNetInterpolateLarge"
   ]
  },
  {
   "cell_type": "code",
   "execution_count": 2,
   "metadata": {
    "scrolled": false
   },
   "outputs": [
    {
     "name": "stdout",
     "output_type": "stream",
     "text": [
      "----------------------------------------------------------------\n",
      "        Layer (type)               Output Shape         Param #\n",
      "================================================================\n",
      "            Conv2d-1         [-1, 3, 1024, 768]              12\n",
      "    InstanceNorm2d-2         [-1, 3, 1024, 768]               6\n",
      "             ReLU6-3         [-1, 3, 1024, 768]               0\n",
      "            Conv2d-4          [-1, 3, 508, 380]             246\n",
      "    InstanceNorm2d-5          [-1, 3, 508, 380]               6\n",
      "             ReLU6-6          [-1, 3, 508, 380]               0\n",
      "            Conv2d-7        [-1, 128, 508, 380]             512\n",
      "    InstanceNorm2d-8        [-1, 128, 508, 380]             256\n",
      "    MobileNetBlock-9        [-1, 128, 508, 380]               0\n",
      "           Conv2d-10        [-1, 128, 508, 380]          16,512\n",
      "   InstanceNorm2d-11        [-1, 128, 508, 380]             256\n",
      "            ReLU6-12        [-1, 128, 508, 380]               0\n",
      "  ReflectionPad2d-13        [-1, 128, 510, 382]               0\n",
      "           Conv2d-14        [-1, 128, 508, 380]           1,280\n",
      "   InstanceNorm2d-15        [-1, 128, 508, 380]             256\n",
      "            ReLU6-16        [-1, 128, 508, 380]               0\n",
      "           Conv2d-17        [-1, 128, 508, 380]          16,512\n",
      "   InstanceNorm2d-18        [-1, 128, 508, 380]             256\n",
      "MobileNetResidualBlock-19        [-1, 128, 508, 380]               0\n",
      "           Conv2d-20        [-1, 128, 508, 380]          16,512\n",
      "   InstanceNorm2d-21        [-1, 128, 508, 380]             256\n",
      "            ReLU6-22        [-1, 128, 508, 380]               0\n",
      "  ReflectionPad2d-23        [-1, 128, 510, 382]               0\n",
      "           Conv2d-24        [-1, 128, 508, 380]           1,280\n",
      "   InstanceNorm2d-25        [-1, 128, 508, 380]             256\n",
      "            ReLU6-26        [-1, 128, 508, 380]               0\n",
      "           Conv2d-27        [-1, 128, 508, 380]          16,512\n",
      "   InstanceNorm2d-28        [-1, 128, 508, 380]             256\n",
      "MobileNetResidualBlock-29        [-1, 128, 508, 380]               0\n",
      "           Conv2d-30        [-1, 128, 508, 380]          16,512\n",
      "   InstanceNorm2d-31        [-1, 128, 508, 380]             256\n",
      "            ReLU6-32        [-1, 128, 508, 380]               0\n",
      "  ReflectionPad2d-33        [-1, 128, 510, 382]               0\n",
      "           Conv2d-34        [-1, 128, 508, 380]           1,280\n",
      "   InstanceNorm2d-35        [-1, 128, 508, 380]             256\n",
      "            ReLU6-36        [-1, 128, 508, 380]               0\n",
      "           Conv2d-37        [-1, 128, 508, 380]          16,512\n",
      "   InstanceNorm2d-38        [-1, 128, 508, 380]             256\n",
      "MobileNetResidualBlock-39        [-1, 128, 508, 380]               0\n",
      "           Conv2d-40       [-1, 128, 1016, 760]          16,512\n",
      "   InstanceNorm2d-41       [-1, 128, 1016, 760]             256\n",
      "            ReLU6-42       [-1, 128, 1016, 760]               0\n",
      "           Conv2d-43       [-1, 128, 1008, 752]          10,496\n",
      "   InstanceNorm2d-44       [-1, 128, 1008, 752]             256\n",
      "            ReLU6-45       [-1, 128, 1008, 752]               0\n",
      "           Conv2d-46         [-1, 3, 1008, 752]             387\n",
      "   InstanceNorm2d-47         [-1, 3, 1008, 752]               6\n",
      "   MobileNetBlock-48         [-1, 3, 1008, 752]               0\n",
      "          UpBlock-49         [-1, 3, 1008, 752]               0\n",
      "  ReflectionPad2d-50         [-1, 3, 1024, 768]               0\n",
      "           Conv2d-51         [-1, 3, 1024, 768]              12\n",
      "   InstanceNorm2d-52         [-1, 3, 1024, 768]               6\n",
      "            ReLU6-53         [-1, 3, 1024, 768]               0\n",
      "  ReflectionPad2d-54         [-1, 3, 1026, 770]               0\n",
      "           Conv2d-55         [-1, 3, 1024, 768]              30\n",
      "   InstanceNorm2d-56         [-1, 3, 1024, 768]               6\n",
      "            ReLU6-57         [-1, 3, 1024, 768]               0\n",
      "           Conv2d-58         [-1, 3, 1024, 768]              12\n",
      "   InstanceNorm2d-59         [-1, 3, 1024, 768]               6\n",
      "MobileNetResidualBlock-60         [-1, 3, 1024, 768]               0\n",
      "          Sigmoid-61         [-1, 3, 1024, 768]               0\n",
      "LastResidualBlock-62         [-1, 3, 1024, 768]               0\n",
      "================================================================\n",
      "Total params: 134,239\n",
      "Trainable params: 134,239\n",
      "Non-trainable params: 0\n",
      "----------------------------------------------------------------\n",
      "Input size (MB): 9.00\n",
      "Forward/backward pass size (MB): 11079.90\n",
      "Params size (MB): 0.51\n",
      "Estimated Total Size (MB): 11089.42\n",
      "----------------------------------------------------------------\n"
     ]
    }
   ],
   "source": [
    "input_size = (3, 1024, 768)\n",
    "\n",
    "device = torch.device('cpu')\n",
    "model = StachMobileNet().eval().to(device)\n",
    "summary(model, device='cpu', input_size=input_size)"
   ]
  }
 ],
 "metadata": {
  "kernelspec": {
   "display_name": "Python 3",
   "language": "python",
   "name": "python3"
  },
  "language_info": {
   "codemirror_mode": {
    "name": "ipython",
    "version": 3
   },
   "file_extension": ".py",
   "mimetype": "text/x-python",
   "name": "python",
   "nbconvert_exporter": "python",
   "pygments_lexer": "ipython3",
   "version": "3.6.7"
  }
 },
 "nbformat": 4,
 "nbformat_minor": 2
}
